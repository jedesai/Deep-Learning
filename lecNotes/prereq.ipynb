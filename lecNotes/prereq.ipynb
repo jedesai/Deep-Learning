{
 "cells": [
  {
   "cell_type": "markdown",
   "metadata": {},
   "source": [
    "### NLP in Deep Learning:"
   ]
  },
  {
   "cell_type": "markdown",
   "metadata": {},
   "source": [
    "- Text Data => Vectors (Numerical representation)\n",
    "\n"
   ]
  },
  {
   "cell_type": "markdown",
   "metadata": {},
   "source": [
    "#### Types of converting Text to Vectors\n",
    "- one hot encoding (OHE)\n",
    "- bag of words (BOG)\n",
    "- TF-IDF\n",
    "- WORD 2 VEC, AVGWORD 2 VEC"
   ]
  },
  {
   "cell_type": "markdown",
   "metadata": {},
   "source": [
    "## ANN(Artificial Neural Network):\n",
    "- This can be used for classification and regression problems.\n",
    "- Tabular Data is used here.\n",
    "- sequence of data does not matter.\n",
    "- Entire row will be sent to Neural Network at same time.\n"
   ]
  },
  {
   "cell_type": "markdown",
   "metadata": {},
   "source": [
    "## CNN(Convolutional Neural Network):\n"
   ]
  },
  {
   "cell_type": "markdown",
   "metadata": {},
   "source": [
    "- Data will be Images or Video Frames.\n",
    "- we can perform Image Classification, Object Detection."
   ]
  },
  {
   "cell_type": "markdown",
   "metadata": {},
   "source": [
    "## RNN(Recurrent Neural Network):\n",
    "- Sequential Data is used.\n",
    "- Here sequence of the data is very much important.\n",
    "- Text Generation, Language Translation, Chatbot Conversation, Auto Suggestion(gmail).\n",
    "- Time Series Data which is used in sales forecasting."
   ]
  }
 ],
 "metadata": {
  "kernelspec": {
   "display_name": "Python 3",
   "language": "python",
   "name": "python3"
  },
  "language_info": {
   "name": "python",
   "version": "3.12.0"
  }
 },
 "nbformat": 4,
 "nbformat_minor": 2
}
